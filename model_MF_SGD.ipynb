{
  "nbformat": 4,
  "nbformat_minor": 0,
  "metadata": {
    "colab": {
      "provenance": [],
      "toc_visible": true,
      "mount_file_id": "https://github.com/donghwi2022/ds-sa-cp2/blob/%EC%8B%A0%EB%8F%99%ED%9C%98/ds_sa_cp2_%EC%8B%A0%EB%8F%99%ED%9C%98.ipynb",
      "authorship_tag": "ABX9TyPXhLVKoMfpIPfJ9v5Irj36",
      "include_colab_link": true
    },
    "kernelspec": {
      "name": "python3",
      "display_name": "Python 3"
    },
    "language_info": {
      "name": "python"
    }
  },
  "cells": [
    {
      "cell_type": "markdown",
      "metadata": {
        "id": "view-in-github",
        "colab_type": "text"
      },
      "source": [
        "<a href=\"https://colab.research.google.com/github/donghwi2022/ds-sa-cp2/blob/main/model_MF_SGD.ipynb\" target=\"_parent\"><img src=\"https://colab.research.google.com/assets/colab-badge.svg\" alt=\"Open In Colab\"/></a>"
      ]
    },
    {
      "cell_type": "markdown",
      "source": [
        "# 1. 필요 라이브러리 import"
      ],
      "metadata": {
        "id": "TpCkpnxvglfb"
      }
    },
    {
      "cell_type": "code",
      "source": [
        "import pandas as pd\n",
        "import numpy as np\n",
        "from sklearn.model_selection import train_test_split\n",
        "from sklearn.metrics import mean_squared_error, mean_absolute_error\n",
        "from scipy.sparse import csr_matrix"
      ],
      "metadata": {
        "id": "1PFhs3HngpqE"
      },
      "execution_count": 29,
      "outputs": []
    },
    {
      "cell_type": "code",
      "source": [
        "from google.colab import drive\n",
        "drive.mount('/content/drive')"
      ],
      "metadata": {
        "id": "Rr1q8LdP7FJO",
        "outputId": "80252ccf-06d0-4e82-8789-2b5498be4722",
        "colab": {
          "base_uri": "https://localhost:8080/"
        }
      },
      "execution_count": 3,
      "outputs": [
        {
          "output_type": "stream",
          "name": "stdout",
          "text": [
            "Mounted at /content/drive\n"
          ]
        }
      ]
    },
    {
      "cell_type": "markdown",
      "source": [
        "# 2. 사용 데이터 확인"
      ],
      "metadata": {
        "id": "Pxj4ziT5g9qy"
      }
    },
    {
      "cell_type": "code",
      "execution_count": 4,
      "metadata": {
        "colab": {
          "base_uri": "https://localhost:8080/",
          "height": 317
        },
        "id": "qn0Fr2fNgUOq",
        "outputId": "760232de-db18-4da4-afe3-d2c722aa3cf4"
      },
      "outputs": [
        {
          "output_type": "execute_result",
          "data": {
            "text/plain": [
              "   user_id  movie_id  rating  timestamp  age gender  occupation   movie_title  \\\n",
              "0      196       242       3  881250949   49      M      writer  Kolya (1996)   \n",
              "1      305       242       5  886307828   23      M  programmer  Kolya (1996)   \n",
              "2        6       242       4  883268170   42      M   executive  Kolya (1996)   \n",
              "3      234       242       4  891033261   60      M     retired  Kolya (1996)   \n",
              "4       63       242       3  875747190   31      M   marketing  Kolya (1996)   \n",
              "\n",
              "   unknown  Action  ...  Fantasy  Film-Noir  Horror  Musical  Mystery  \\\n",
              "0        0       0  ...        0          0       0        0        0   \n",
              "1        0       0  ...        0          0       0        0        0   \n",
              "2        0       0  ...        0          0       0        0        0   \n",
              "3        0       0  ...        0          0       0        0        0   \n",
              "4        0       0  ...        0          0       0        0        0   \n",
              "\n",
              "   Romance  Sci-Fi  Thriller  War  Western  \n",
              "0        0       0         0    0        0  \n",
              "1        0       0         0    0        0  \n",
              "2        0       0         0    0        0  \n",
              "3        0       0         0    0        0  \n",
              "4        0       0         0    0        0  \n",
              "\n",
              "[5 rows x 27 columns]"
            ],
            "text/html": [
              "\n",
              "  <div id=\"df-d57ce89e-6ac2-4bce-8731-027e03dcab35\">\n",
              "    <div class=\"colab-df-container\">\n",
              "      <div>\n",
              "<style scoped>\n",
              "    .dataframe tbody tr th:only-of-type {\n",
              "        vertical-align: middle;\n",
              "    }\n",
              "\n",
              "    .dataframe tbody tr th {\n",
              "        vertical-align: top;\n",
              "    }\n",
              "\n",
              "    .dataframe thead th {\n",
              "        text-align: right;\n",
              "    }\n",
              "</style>\n",
              "<table border=\"1\" class=\"dataframe\">\n",
              "  <thead>\n",
              "    <tr style=\"text-align: right;\">\n",
              "      <th></th>\n",
              "      <th>user_id</th>\n",
              "      <th>movie_id</th>\n",
              "      <th>rating</th>\n",
              "      <th>timestamp</th>\n",
              "      <th>age</th>\n",
              "      <th>gender</th>\n",
              "      <th>occupation</th>\n",
              "      <th>movie_title</th>\n",
              "      <th>unknown</th>\n",
              "      <th>Action</th>\n",
              "      <th>...</th>\n",
              "      <th>Fantasy</th>\n",
              "      <th>Film-Noir</th>\n",
              "      <th>Horror</th>\n",
              "      <th>Musical</th>\n",
              "      <th>Mystery</th>\n",
              "      <th>Romance</th>\n",
              "      <th>Sci-Fi</th>\n",
              "      <th>Thriller</th>\n",
              "      <th>War</th>\n",
              "      <th>Western</th>\n",
              "    </tr>\n",
              "  </thead>\n",
              "  <tbody>\n",
              "    <tr>\n",
              "      <th>0</th>\n",
              "      <td>196</td>\n",
              "      <td>242</td>\n",
              "      <td>3</td>\n",
              "      <td>881250949</td>\n",
              "      <td>49</td>\n",
              "      <td>M</td>\n",
              "      <td>writer</td>\n",
              "      <td>Kolya (1996)</td>\n",
              "      <td>0</td>\n",
              "      <td>0</td>\n",
              "      <td>...</td>\n",
              "      <td>0</td>\n",
              "      <td>0</td>\n",
              "      <td>0</td>\n",
              "      <td>0</td>\n",
              "      <td>0</td>\n",
              "      <td>0</td>\n",
              "      <td>0</td>\n",
              "      <td>0</td>\n",
              "      <td>0</td>\n",
              "      <td>0</td>\n",
              "    </tr>\n",
              "    <tr>\n",
              "      <th>1</th>\n",
              "      <td>305</td>\n",
              "      <td>242</td>\n",
              "      <td>5</td>\n",
              "      <td>886307828</td>\n",
              "      <td>23</td>\n",
              "      <td>M</td>\n",
              "      <td>programmer</td>\n",
              "      <td>Kolya (1996)</td>\n",
              "      <td>0</td>\n",
              "      <td>0</td>\n",
              "      <td>...</td>\n",
              "      <td>0</td>\n",
              "      <td>0</td>\n",
              "      <td>0</td>\n",
              "      <td>0</td>\n",
              "      <td>0</td>\n",
              "      <td>0</td>\n",
              "      <td>0</td>\n",
              "      <td>0</td>\n",
              "      <td>0</td>\n",
              "      <td>0</td>\n",
              "    </tr>\n",
              "    <tr>\n",
              "      <th>2</th>\n",
              "      <td>6</td>\n",
              "      <td>242</td>\n",
              "      <td>4</td>\n",
              "      <td>883268170</td>\n",
              "      <td>42</td>\n",
              "      <td>M</td>\n",
              "      <td>executive</td>\n",
              "      <td>Kolya (1996)</td>\n",
              "      <td>0</td>\n",
              "      <td>0</td>\n",
              "      <td>...</td>\n",
              "      <td>0</td>\n",
              "      <td>0</td>\n",
              "      <td>0</td>\n",
              "      <td>0</td>\n",
              "      <td>0</td>\n",
              "      <td>0</td>\n",
              "      <td>0</td>\n",
              "      <td>0</td>\n",
              "      <td>0</td>\n",
              "      <td>0</td>\n",
              "    </tr>\n",
              "    <tr>\n",
              "      <th>3</th>\n",
              "      <td>234</td>\n",
              "      <td>242</td>\n",
              "      <td>4</td>\n",
              "      <td>891033261</td>\n",
              "      <td>60</td>\n",
              "      <td>M</td>\n",
              "      <td>retired</td>\n",
              "      <td>Kolya (1996)</td>\n",
              "      <td>0</td>\n",
              "      <td>0</td>\n",
              "      <td>...</td>\n",
              "      <td>0</td>\n",
              "      <td>0</td>\n",
              "      <td>0</td>\n",
              "      <td>0</td>\n",
              "      <td>0</td>\n",
              "      <td>0</td>\n",
              "      <td>0</td>\n",
              "      <td>0</td>\n",
              "      <td>0</td>\n",
              "      <td>0</td>\n",
              "    </tr>\n",
              "    <tr>\n",
              "      <th>4</th>\n",
              "      <td>63</td>\n",
              "      <td>242</td>\n",
              "      <td>3</td>\n",
              "      <td>875747190</td>\n",
              "      <td>31</td>\n",
              "      <td>M</td>\n",
              "      <td>marketing</td>\n",
              "      <td>Kolya (1996)</td>\n",
              "      <td>0</td>\n",
              "      <td>0</td>\n",
              "      <td>...</td>\n",
              "      <td>0</td>\n",
              "      <td>0</td>\n",
              "      <td>0</td>\n",
              "      <td>0</td>\n",
              "      <td>0</td>\n",
              "      <td>0</td>\n",
              "      <td>0</td>\n",
              "      <td>0</td>\n",
              "      <td>0</td>\n",
              "      <td>0</td>\n",
              "    </tr>\n",
              "  </tbody>\n",
              "</table>\n",
              "<p>5 rows × 27 columns</p>\n",
              "</div>\n",
              "      <button class=\"colab-df-convert\" onclick=\"convertToInteractive('df-d57ce89e-6ac2-4bce-8731-027e03dcab35')\"\n",
              "              title=\"Convert this dataframe to an interactive table.\"\n",
              "              style=\"display:none;\">\n",
              "        \n",
              "  <svg xmlns=\"http://www.w3.org/2000/svg\" height=\"24px\"viewBox=\"0 0 24 24\"\n",
              "       width=\"24px\">\n",
              "    <path d=\"M0 0h24v24H0V0z\" fill=\"none\"/>\n",
              "    <path d=\"M18.56 5.44l.94 2.06.94-2.06 2.06-.94-2.06-.94-.94-2.06-.94 2.06-2.06.94zm-11 1L8.5 8.5l.94-2.06 2.06-.94-2.06-.94L8.5 2.5l-.94 2.06-2.06.94zm10 10l.94 2.06.94-2.06 2.06-.94-2.06-.94-.94-2.06-.94 2.06-2.06.94z\"/><path d=\"M17.41 7.96l-1.37-1.37c-.4-.4-.92-.59-1.43-.59-.52 0-1.04.2-1.43.59L10.3 9.45l-7.72 7.72c-.78.78-.78 2.05 0 2.83L4 21.41c.39.39.9.59 1.41.59.51 0 1.02-.2 1.41-.59l7.78-7.78 2.81-2.81c.8-.78.8-2.07 0-2.86zM5.41 20L4 18.59l7.72-7.72 1.47 1.35L5.41 20z\"/>\n",
              "  </svg>\n",
              "      </button>\n",
              "      \n",
              "  <style>\n",
              "    .colab-df-container {\n",
              "      display:flex;\n",
              "      flex-wrap:wrap;\n",
              "      gap: 12px;\n",
              "    }\n",
              "\n",
              "    .colab-df-convert {\n",
              "      background-color: #E8F0FE;\n",
              "      border: none;\n",
              "      border-radius: 50%;\n",
              "      cursor: pointer;\n",
              "      display: none;\n",
              "      fill: #1967D2;\n",
              "      height: 32px;\n",
              "      padding: 0 0 0 0;\n",
              "      width: 32px;\n",
              "    }\n",
              "\n",
              "    .colab-df-convert:hover {\n",
              "      background-color: #E2EBFA;\n",
              "      box-shadow: 0px 1px 2px rgba(60, 64, 67, 0.3), 0px 1px 3px 1px rgba(60, 64, 67, 0.15);\n",
              "      fill: #174EA6;\n",
              "    }\n",
              "\n",
              "    [theme=dark] .colab-df-convert {\n",
              "      background-color: #3B4455;\n",
              "      fill: #D2E3FC;\n",
              "    }\n",
              "\n",
              "    [theme=dark] .colab-df-convert:hover {\n",
              "      background-color: #434B5C;\n",
              "      box-shadow: 0px 1px 3px 1px rgba(0, 0, 0, 0.15);\n",
              "      filter: drop-shadow(0px 1px 2px rgba(0, 0, 0, 0.3));\n",
              "      fill: #FFFFFF;\n",
              "    }\n",
              "  </style>\n",
              "\n",
              "      <script>\n",
              "        const buttonEl =\n",
              "          document.querySelector('#df-d57ce89e-6ac2-4bce-8731-027e03dcab35 button.colab-df-convert');\n",
              "        buttonEl.style.display =\n",
              "          google.colab.kernel.accessAllowed ? 'block' : 'none';\n",
              "\n",
              "        async function convertToInteractive(key) {\n",
              "          const element = document.querySelector('#df-d57ce89e-6ac2-4bce-8731-027e03dcab35');\n",
              "          const dataTable =\n",
              "            await google.colab.kernel.invokeFunction('convertToInteractive',\n",
              "                                                     [key], {});\n",
              "          if (!dataTable) return;\n",
              "\n",
              "          const docLinkHtml = 'Like what you see? Visit the ' +\n",
              "            '<a target=\"_blank\" href=https://colab.research.google.com/notebooks/data_table.ipynb>data table notebook</a>'\n",
              "            + ' to learn more about interactive tables.';\n",
              "          element.innerHTML = '';\n",
              "          dataTable['output_type'] = 'display_data';\n",
              "          await google.colab.output.renderOutput(dataTable, element);\n",
              "          const docLink = document.createElement('div');\n",
              "          docLink.innerHTML = docLinkHtml;\n",
              "          element.appendChild(docLink);\n",
              "        }\n",
              "      </script>\n",
              "    </div>\n",
              "  </div>\n",
              "  "
            ]
          },
          "metadata": {},
          "execution_count": 4
        }
      ],
      "source": [
        "df = pd.read_csv(\"/content/drive/MyDrive/total_movie_rating.csv\", index_col = 0)\n",
        "df.head()"
      ]
    },
    {
      "cell_type": "code",
      "source": [
        "df.info()"
      ],
      "metadata": {
        "colab": {
          "base_uri": "https://localhost:8080/"
        },
        "id": "sos9Xc4IhT2t",
        "outputId": "70ae53ab-b320-47c1-a7d4-abfff77afad1"
      },
      "execution_count": 5,
      "outputs": [
        {
          "output_type": "stream",
          "name": "stdout",
          "text": [
            "<class 'pandas.core.frame.DataFrame'>\n",
            "Int64Index: 99991 entries, 0 to 99999\n",
            "Data columns (total 27 columns):\n",
            " #   Column       Non-Null Count  Dtype \n",
            "---  ------       --------------  ----- \n",
            " 0   user_id      99991 non-null  int64 \n",
            " 1   movie_id     99991 non-null  int64 \n",
            " 2   rating       99991 non-null  int64 \n",
            " 3   timestamp    99991 non-null  int64 \n",
            " 4   age          99991 non-null  int64 \n",
            " 5   gender       99991 non-null  object\n",
            " 6   occupation   99991 non-null  object\n",
            " 7   movie_title  99991 non-null  object\n",
            " 8   unknown      99991 non-null  int64 \n",
            " 9   Action       99991 non-null  int64 \n",
            " 10  Adventure    99991 non-null  int64 \n",
            " 11  Animation    99991 non-null  int64 \n",
            " 12  Children's   99991 non-null  int64 \n",
            " 13  Comedy       99991 non-null  int64 \n",
            " 14  Crime        99991 non-null  int64 \n",
            " 15  Documentary  99991 non-null  int64 \n",
            " 16  Drama        99991 non-null  int64 \n",
            " 17  Fantasy      99991 non-null  int64 \n",
            " 18  Film-Noir    99991 non-null  int64 \n",
            " 19  Horror       99991 non-null  int64 \n",
            " 20  Musical      99991 non-null  int64 \n",
            " 21  Mystery      99991 non-null  int64 \n",
            " 22  Romance      99991 non-null  int64 \n",
            " 23  Sci-Fi       99991 non-null  int64 \n",
            " 24  Thriller     99991 non-null  int64 \n",
            " 25  War          99991 non-null  int64 \n",
            " 26  Western      99991 non-null  int64 \n",
            "dtypes: int64(24), object(3)\n",
            "memory usage: 21.4+ MB\n"
          ]
        }
      ]
    },
    {
      "cell_type": "markdown",
      "source": [
        "# 3. MF-SGD 모델링\n",
        "1. 학습 데이터와 테스트 데이터 분리\n",
        "2. 기준모델 생성\n",
        "3. 모델 생성"
      ],
      "metadata": {
        "id": "__UMcQU7YMIm"
      }
    },
    {
      "cell_type": "markdown",
      "source": [
        "## 1. 학습 데이터와 테스트 데이터 분리"
      ],
      "metadata": {
        "id": "lVw4fltmYdno"
      }
    },
    {
      "cell_type": "code",
      "source": [
        "# 사용할 데이터셋\n",
        "mf_sgd_df = df.loc[:, ['user_id', 'movie_title', 'rating']]\n",
        "mf_sgd_df"
      ],
      "metadata": {
        "colab": {
          "base_uri": "https://localhost:8080/",
          "height": 423
        },
        "id": "hjeSm-quhodc",
        "outputId": "fdeb1d8b-c162-42dc-a096-2c9885d79cfb"
      },
      "execution_count": 20,
      "outputs": [
        {
          "output_type": "execute_result",
          "data": {
            "text/plain": [
              "       user_id                                movie_title  rating\n",
              "0          196                               Kolya (1996)       3\n",
              "1          305                               Kolya (1996)       5\n",
              "2            6                               Kolya (1996)       4\n",
              "3          234                               Kolya (1996)       4\n",
              "4           63                               Kolya (1996)       3\n",
              "...        ...                                        ...     ...\n",
              "99995      863                           B. Monkey (1998)       3\n",
              "99996      863                          Mat' i syn (1997)       1\n",
              "99997      863                       Sliding Doors (1998)       2\n",
              "99998      896                        You So Crazy (1994)       3\n",
              "99999      916  Scream of Stone (Schrei aus Stein) (1991)       3\n",
              "\n",
              "[99991 rows x 3 columns]"
            ],
            "text/html": [
              "\n",
              "  <div id=\"df-10ca77af-1e5a-497d-9ddd-17516ec446ad\">\n",
              "    <div class=\"colab-df-container\">\n",
              "      <div>\n",
              "<style scoped>\n",
              "    .dataframe tbody tr th:only-of-type {\n",
              "        vertical-align: middle;\n",
              "    }\n",
              "\n",
              "    .dataframe tbody tr th {\n",
              "        vertical-align: top;\n",
              "    }\n",
              "\n",
              "    .dataframe thead th {\n",
              "        text-align: right;\n",
              "    }\n",
              "</style>\n",
              "<table border=\"1\" class=\"dataframe\">\n",
              "  <thead>\n",
              "    <tr style=\"text-align: right;\">\n",
              "      <th></th>\n",
              "      <th>user_id</th>\n",
              "      <th>movie_title</th>\n",
              "      <th>rating</th>\n",
              "    </tr>\n",
              "  </thead>\n",
              "  <tbody>\n",
              "    <tr>\n",
              "      <th>0</th>\n",
              "      <td>196</td>\n",
              "      <td>Kolya (1996)</td>\n",
              "      <td>3</td>\n",
              "    </tr>\n",
              "    <tr>\n",
              "      <th>1</th>\n",
              "      <td>305</td>\n",
              "      <td>Kolya (1996)</td>\n",
              "      <td>5</td>\n",
              "    </tr>\n",
              "    <tr>\n",
              "      <th>2</th>\n",
              "      <td>6</td>\n",
              "      <td>Kolya (1996)</td>\n",
              "      <td>4</td>\n",
              "    </tr>\n",
              "    <tr>\n",
              "      <th>3</th>\n",
              "      <td>234</td>\n",
              "      <td>Kolya (1996)</td>\n",
              "      <td>4</td>\n",
              "    </tr>\n",
              "    <tr>\n",
              "      <th>4</th>\n",
              "      <td>63</td>\n",
              "      <td>Kolya (1996)</td>\n",
              "      <td>3</td>\n",
              "    </tr>\n",
              "    <tr>\n",
              "      <th>...</th>\n",
              "      <td>...</td>\n",
              "      <td>...</td>\n",
              "      <td>...</td>\n",
              "    </tr>\n",
              "    <tr>\n",
              "      <th>99995</th>\n",
              "      <td>863</td>\n",
              "      <td>B. Monkey (1998)</td>\n",
              "      <td>3</td>\n",
              "    </tr>\n",
              "    <tr>\n",
              "      <th>99996</th>\n",
              "      <td>863</td>\n",
              "      <td>Mat' i syn (1997)</td>\n",
              "      <td>1</td>\n",
              "    </tr>\n",
              "    <tr>\n",
              "      <th>99997</th>\n",
              "      <td>863</td>\n",
              "      <td>Sliding Doors (1998)</td>\n",
              "      <td>2</td>\n",
              "    </tr>\n",
              "    <tr>\n",
              "      <th>99998</th>\n",
              "      <td>896</td>\n",
              "      <td>You So Crazy (1994)</td>\n",
              "      <td>3</td>\n",
              "    </tr>\n",
              "    <tr>\n",
              "      <th>99999</th>\n",
              "      <td>916</td>\n",
              "      <td>Scream of Stone (Schrei aus Stein) (1991)</td>\n",
              "      <td>3</td>\n",
              "    </tr>\n",
              "  </tbody>\n",
              "</table>\n",
              "<p>99991 rows × 3 columns</p>\n",
              "</div>\n",
              "      <button class=\"colab-df-convert\" onclick=\"convertToInteractive('df-10ca77af-1e5a-497d-9ddd-17516ec446ad')\"\n",
              "              title=\"Convert this dataframe to an interactive table.\"\n",
              "              style=\"display:none;\">\n",
              "        \n",
              "  <svg xmlns=\"http://www.w3.org/2000/svg\" height=\"24px\"viewBox=\"0 0 24 24\"\n",
              "       width=\"24px\">\n",
              "    <path d=\"M0 0h24v24H0V0z\" fill=\"none\"/>\n",
              "    <path d=\"M18.56 5.44l.94 2.06.94-2.06 2.06-.94-2.06-.94-.94-2.06-.94 2.06-2.06.94zm-11 1L8.5 8.5l.94-2.06 2.06-.94-2.06-.94L8.5 2.5l-.94 2.06-2.06.94zm10 10l.94 2.06.94-2.06 2.06-.94-2.06-.94-.94-2.06-.94 2.06-2.06.94z\"/><path d=\"M17.41 7.96l-1.37-1.37c-.4-.4-.92-.59-1.43-.59-.52 0-1.04.2-1.43.59L10.3 9.45l-7.72 7.72c-.78.78-.78 2.05 0 2.83L4 21.41c.39.39.9.59 1.41.59.51 0 1.02-.2 1.41-.59l7.78-7.78 2.81-2.81c.8-.78.8-2.07 0-2.86zM5.41 20L4 18.59l7.72-7.72 1.47 1.35L5.41 20z\"/>\n",
              "  </svg>\n",
              "      </button>\n",
              "      \n",
              "  <style>\n",
              "    .colab-df-container {\n",
              "      display:flex;\n",
              "      flex-wrap:wrap;\n",
              "      gap: 12px;\n",
              "    }\n",
              "\n",
              "    .colab-df-convert {\n",
              "      background-color: #E8F0FE;\n",
              "      border: none;\n",
              "      border-radius: 50%;\n",
              "      cursor: pointer;\n",
              "      display: none;\n",
              "      fill: #1967D2;\n",
              "      height: 32px;\n",
              "      padding: 0 0 0 0;\n",
              "      width: 32px;\n",
              "    }\n",
              "\n",
              "    .colab-df-convert:hover {\n",
              "      background-color: #E2EBFA;\n",
              "      box-shadow: 0px 1px 2px rgba(60, 64, 67, 0.3), 0px 1px 3px 1px rgba(60, 64, 67, 0.15);\n",
              "      fill: #174EA6;\n",
              "    }\n",
              "\n",
              "    [theme=dark] .colab-df-convert {\n",
              "      background-color: #3B4455;\n",
              "      fill: #D2E3FC;\n",
              "    }\n",
              "\n",
              "    [theme=dark] .colab-df-convert:hover {\n",
              "      background-color: #434B5C;\n",
              "      box-shadow: 0px 1px 3px 1px rgba(0, 0, 0, 0.15);\n",
              "      filter: drop-shadow(0px 1px 2px rgba(0, 0, 0, 0.3));\n",
              "      fill: #FFFFFF;\n",
              "    }\n",
              "  </style>\n",
              "\n",
              "      <script>\n",
              "        const buttonEl =\n",
              "          document.querySelector('#df-10ca77af-1e5a-497d-9ddd-17516ec446ad button.colab-df-convert');\n",
              "        buttonEl.style.display =\n",
              "          google.colab.kernel.accessAllowed ? 'block' : 'none';\n",
              "\n",
              "        async function convertToInteractive(key) {\n",
              "          const element = document.querySelector('#df-10ca77af-1e5a-497d-9ddd-17516ec446ad');\n",
              "          const dataTable =\n",
              "            await google.colab.kernel.invokeFunction('convertToInteractive',\n",
              "                                                     [key], {});\n",
              "          if (!dataTable) return;\n",
              "\n",
              "          const docLinkHtml = 'Like what you see? Visit the ' +\n",
              "            '<a target=\"_blank\" href=https://colab.research.google.com/notebooks/data_table.ipynb>data table notebook</a>'\n",
              "            + ' to learn more about interactive tables.';\n",
              "          element.innerHTML = '';\n",
              "          dataTable['output_type'] = 'display_data';\n",
              "          await google.colab.output.renderOutput(dataTable, element);\n",
              "          const docLink = document.createElement('div');\n",
              "          docLink.innerHTML = docLinkHtml;\n",
              "          element.appendChild(docLink);\n",
              "        }\n",
              "      </script>\n",
              "    </div>\n",
              "  </div>\n",
              "  "
            ]
          },
          "metadata": {},
          "execution_count": 20
        }
      ]
    },
    {
      "cell_type": "code",
      "source": [
        "# 학습데이터와 테스트 데이터 분리(유저가 균등하게 들어가기 위해 별도 함수 작성)\n",
        "def split_df(df) :\n",
        "    user_list = df['user_id'].unique()\n",
        "    train_data = pd.DataFrame()\n",
        "    test_data = pd.DataFrame()\n",
        "    for user in user_list :\n",
        "        sub_df = df[df['user_id'] == user]\n",
        "        train_set, test_set = train_test_split(sub_df, test_size=0.2, shuffle=True, random_state=3)\n",
        "        train_data = pd.concat([train_data,train_set])\n",
        "        test_data = pd.concat([test_data,test_set])\n",
        "    return train_data, test_data"
      ],
      "metadata": {
        "id": "hvQsxfUVh1y-"
      },
      "execution_count": 24,
      "outputs": []
    },
    {
      "cell_type": "code",
      "source": [
        "train_data, test_data = split_df(mf_sgd_df)"
      ],
      "metadata": {
        "id": "4Oba5fVch3z6"
      },
      "execution_count": 25,
      "outputs": []
    },
    {
      "cell_type": "code",
      "source": [
        "# 양 데이터의 유저 숫자 확인\n",
        "print(f\"학습데이터의 user 숫자 : {train_data['user_id'].nunique()}\")\n",
        "print(f\"테스트데이터의 user 숫자 : {test_data['user_id'].nunique()}\")"
      ],
      "metadata": {
        "colab": {
          "base_uri": "https://localhost:8080/"
        },
        "id": "PPfNA967h6PH",
        "outputId": "76ddd8cc-1eeb-4510-f072-52292f68a384"
      },
      "execution_count": 28,
      "outputs": [
        {
          "output_type": "stream",
          "name": "stdout",
          "text": [
            "학습데이터의 user 숫자 : 943\n",
            "테스트데이터의 user 숫자 : 943\n"
          ]
        }
      ]
    },
    {
      "cell_type": "markdown",
      "source": [
        "## 2. 기준 모델 생성(최빈값)"
      ],
      "metadata": {
        "id": "il1-dkFDh8yU"
      }
    },
    {
      "cell_type": "code",
      "source": [
        "# 최빈값으로 기준모델 생성\n",
        "y_test = test_data['rating']\n",
        "base = y_test.mode()[0] \n",
        "baseline = len(y_test) * [base]"
      ],
      "metadata": {
        "id": "L4vRbqclh-gs"
      },
      "execution_count": 10,
      "outputs": []
    },
    {
      "cell_type": "code",
      "source": [
        "# 기준모델 평가\n",
        "baseline_mae = mean_absolute_error(y_test, baseline)\n",
        "baseline_mse = mean_squared_error(y_test, baseline)\n",
        "baseline_rmse = np.sqrt(baseline_mse)\n",
        "\n",
        "print('기준모델의 MAE :', baseline_mae)\n",
        "print('기준모델의 RMSE :', baseline_rmse)"
      ],
      "metadata": {
        "colab": {
          "base_uri": "https://localhost:8080/"
        },
        "id": "DT4QuGRpiCG7",
        "outputId": "8fb6ed42-ac2e-4b4d-914f-f8a8ad34f5f7"
      },
      "execution_count": 11,
      "outputs": [
        {
          "output_type": "stream",
          "name": "stdout",
          "text": [
            "기준모델의 MAE : 0.9055492860997988\n",
            "기준모델의 RMSE : 1.2294331271926715\n"
          ]
        }
      ]
    },
    {
      "cell_type": "markdown",
      "source": [
        "## 3. 모델 생성"
      ],
      "metadata": {
        "id": "0j_hsIubiJN8"
      }
    },
    {
      "cell_type": "code",
      "source": [
        "# 학습과 테스테 Matrix 생성(null값은 0으로 채움)\n",
        "train_matrix = train_data.pivot_table('rating', index='user_id', columns='movie_title').fillna(0) \n",
        "test_matrix = test_data.pivot_table('rating', index='user_id', columns='movie_title').fillna(0)\n",
        "\n",
        "# 계산 효율을 높이기 위해 csr_matrix 사용\n",
        "train_matrix_csr = csr_matrix(train_matrix.values).toarray()\n",
        "test_matrix_csr = csr_matrix(test_matrix.values).toarray()"
      ],
      "metadata": {
        "id": "LJ-9lgbRTCud"
      },
      "execution_count": 31,
      "outputs": []
    },
    {
      "cell_type": "code",
      "source": [
        "class MatrixFactorization():\n",
        "\n",
        "    # MF-SGD 생성자\n",
        "    def __init__(self, R, k, learning_rate, reg_param, epochs, verbose=False):\n",
        "        self._R = R                                 # 평점 matrix\n",
        "        self._num_users, self._num_movies = R.shape # 유저, 영화 수\n",
        "        self._k = k                                 # 잠재요인 수\n",
        "        self._learning_rate = learning_rate         # 학습률\n",
        "        self._reg_param = reg_param                 # 정규화 계수\n",
        "        self._epochs = epochs                       # 반복횟수\n",
        "        self._verbose = verbose                     # 중간과정 표시 여부\n",
        "\n",
        "\n",
        "    # 학습 진행 \n",
        "    def fit(self):\n",
        "\n",
        "        # 잠재 행렬 생성(이상치 제거를 위해 정규분포 형태로 초기화)\n",
        "        self._P = np.random.normal(size=(self._num_users, self._k)) # size = (유저 수, 잠재요인 수)\n",
        "        self._Q = np.random.normal(size=(self._num_movies, self._k)) # size = (아이템 수, 잠재요인 수)\n",
        "\n",
        "        # 잠재 편향 생성\n",
        "        self._b_P = np.zeros(self._num_users) \n",
        "        self._b_Q = np.zeros(self._num_movies)\n",
        "\n",
        "        # 전체 평점의 평균을 계산\n",
        "        self._b = np.mean(self._R[np.where(self._R != 0)]) \n",
        "\n",
        "        # 입력받은 값 만큼 반복 진행\n",
        "        self._training_process = []\n",
        "        for epoch in range(self._epochs):  \n",
        "            # rating이 존재하는 index를 기준으로 training\n",
        "            xi, yi = self._R.nonzero() \n",
        "            for i, j in zip(xi, yi):\n",
        "                self.gradient_descent(i, j, self._R[i, j])\n",
        "            \n",
        "            rmse, mae = self.cost() \n",
        "            self._training_process.append((epoch, rmse, mae))\n",
        "\n",
        "            # 10단위로 학습상태 출력\n",
        "            if self._verbose == True :\n",
        "                print(f\"Epoch[{epoch + 1}/{self._epochs}] rmse = {rmse.round(4)}, mae = {mae.round(4)}\")\n",
        "\n",
        "\n",
        "    # SGD방식\n",
        "    def gradient_descent(self, i, j, rating):\n",
        "        \"\"\"\n",
        "        :param i: user index of matrix\n",
        "        :param j: movie index of matrix\n",
        "        :param rating: rating of (i,j)\n",
        "        \"\"\"\n",
        "\n",
        "        # 손실값 계산\n",
        "        prediction = self.get_prediction(i, j)\n",
        "        error = rating - prediction\n",
        "\n",
        "        # 편향 update\n",
        "        self._b_P[i] += self._learning_rate * (error - self._reg_param * self._b_P[i])\n",
        "        self._b_Q[j] += self._learning_rate * (error - self._reg_param * self._b_Q[j])\n",
        "\n",
        "        # 잠재요인 update\n",
        "        dp, dq = self.gradient(error, i, j)\n",
        "        self._P[i, :] += self._learning_rate * dp\n",
        "        self._Q[j, :] += self._learning_rate * dq\n",
        "\n",
        "\n",
        "    # Gradient 계산\n",
        "    def gradient(self, error, i, j):\n",
        "        \"\"\"\n",
        "        :param error: rating - prediction error\n",
        "        :param i: user index\n",
        "        :param j: item index\n",
        "        \"\"\"\n",
        "        dp = (error * self._Q[j, :]) - (self._reg_param * self._P[i, :])\n",
        "        dq = (error * self._P[i, :]) - (self._reg_param * self._Q[j, :])\n",
        "        return dp, dq\n",
        "\n",
        "\n",
        "    # 예측 평점 생성\n",
        "    def get_prediction(self, i, j):\n",
        "        # 예측 평점 = 전체 평점의 평균(_b) + 유저가 가진 편향(_b_P[i]) + 영화가 가진 편향(_b_Q[j]) + 두 잠재벡터의 내적(_P[i, :].dot(self._Q[j, :].T))\n",
        "        return self._b + self._b_P[i] + self._b_Q[j] + self._P[i, :].dot(self._Q[j, :].T)\n",
        "    \n",
        "\n",
        "    # rmse, mae 계산\n",
        "    def cost(self):\n",
        "        xi, yi = self._R.nonzero()\n",
        "        error_squares = 0\n",
        "        errors = 0\n",
        "        for x, y in zip(xi, yi):\n",
        "            error_squares += pow(self._R[x, y] - self.get_prediction(x, y), 2)\n",
        "            errors += self._R[x, y] - self.get_prediction(x, y)\n",
        "        return np.sqrt(error_squares/len(xi)), errors/len(xi)\n",
        "\n",
        "\n",
        "    # 완성된 평점행렬 추출\n",
        "    def get_complete_matrix(self):\n",
        "        \"\"\"\n",
        "        - PXQ 행렬에 b_P[:, np.newaxis]를 더하는 것은 각 열마다 bias를 더해주는 것\n",
        "        - b_Q[np.newaxis:, ]를 더하는 것은 각 행마다 bias를 더해주는 것\n",
        "        - b를 더하는 것은 각 element마다 bias를 더해주는 것\n",
        "        - newaxis: 차원을 추가해줌. 1차원인 Latent들로 2차원의 R에 행/열 단위 연산을 해주기위해 차원을 추가하는 것.\n",
        "        \"\"\"\n",
        "        return self._b + self._b_P[:, np.newaxis] + self._b_Q[np.newaxis:, ] + self._P.dot(self._Q.T)"
      ],
      "metadata": {
        "id": "MEbCJJlBiG24"
      },
      "execution_count": 39,
      "outputs": []
    },
    {
      "cell_type": "code",
      "source": [
        "# 훈련 데이터로 학습\n",
        "%%time\n",
        "mf_sgd = MatrixFactorization(train_matrix_csr, k=50, learning_rate=0.01, reg_param=0.01, epochs=10, verbose=True)\n",
        "mf_sgd.fit()"
      ],
      "metadata": {
        "colab": {
          "base_uri": "https://localhost:8080/"
        },
        "id": "gJWYLdrNmHeN",
        "outputId": "c58b1a9e-6ed2-4942-9b57-6bd000c6452b"
      },
      "execution_count": 42,
      "outputs": [
        {
          "output_type": "stream",
          "name": "stdout",
          "text": [
            "Epoch[1/10] rmse = 1.3944, mae = -0.0059\n",
            "Epoch[2/10] rmse = 0.9794, mae = -0.003\n",
            "Epoch[3/10] rmse = 0.8476, mae = -0.0017\n",
            "Epoch[4/10] rmse = 0.7829, mae = -0.0014\n",
            "Epoch[5/10] rmse = 0.7443, mae = -0.0013\n",
            "Epoch[6/10] rmse = 0.7181, mae = -0.0012\n",
            "Epoch[7/10] rmse = 0.6988, mae = -0.0012\n",
            "Epoch[8/10] rmse = 0.6835, mae = -0.0011\n",
            "Epoch[9/10] rmse = 0.6708, mae = -0.0011\n",
            "Epoch[10/10] rmse = 0.6599, mae = -0.001\n",
            "CPU times: user 20 s, sys: 535 ms, total: 20.5 s\n",
            "Wall time: 20 s\n"
          ]
        }
      ]
    },
    {
      "cell_type": "code",
      "source": [
        "# 완성된 평점행렬 출력\n",
        "mf_sgd.get_complete_matrix()"
      ],
      "metadata": {
        "colab": {
          "base_uri": "https://localhost:8080/"
        },
        "id": "Yp4Cjrdfn4XR",
        "outputId": "4fd35b6b-6b3e-44d5-e67d-cdb1441128d6"
      },
      "execution_count": 43,
      "outputs": [
        {
          "output_type": "execute_result",
          "data": {
            "text/plain": [
              "array([[ 4.89578766,  3.08236831,  2.68301531, ...,  3.28669665,\n",
              "         4.88711244,  4.30892295],\n",
              "       [ 3.01529103, -2.83800905,  3.44656606, ..., -7.69286829,\n",
              "         4.24781157,  5.55038065],\n",
              "       [-9.17447926,  1.86268454,  6.17454626, ...,  1.121784  ,\n",
              "         7.93503482,  0.41938126],\n",
              "       ...,\n",
              "       [ 2.92125621,  4.88607594,  4.98533143, ...,  1.36213297,\n",
              "         3.52849238,  4.57851229],\n",
              "       [13.73331318,  8.32247368,  3.8742399 , ..., 11.47972585,\n",
              "        -6.00282826, 14.95706593],\n",
              "       [-3.09472126,  4.75837427,  4.90881252, ...,  3.45564448,\n",
              "         4.21015691, -0.06048943]])"
            ]
          },
          "metadata": {},
          "execution_count": 43
        }
      ]
    },
    {
      "cell_type": "markdown",
      "source": [
        "# 4. 추천 로직 및 성능 평가\n",
        "1. 추천 로직\n",
        "2. 성능 평가"
      ],
      "metadata": {
        "id": "-CCptUnirh7y"
      }
    },
    {
      "cell_type": "markdown",
      "source": [
        "## 1. 추천 로직"
      ],
      "metadata": {
        "id": "ZsK1-9TQrrxc"
      }
    },
    {
      "cell_type": "markdown",
      "source": [
        "## 2. 성능 평가"
      ],
      "metadata": {
        "id": "BHQeKhyQrtwE"
      }
    }
  ]
}