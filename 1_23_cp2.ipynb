{
  "nbformat": 4,
  "nbformat_minor": 0,
  "metadata": {
    "colab": {
      "provenance": [],
      "toc_visible": true,
      "mount_file_id": "1DQwxM1h3ujLP_LMIWRHK0hs3NDxHumnB",
      "authorship_tag": "ABX9TyMxSnnBCJsfWDq93+EEge2w",
      "include_colab_link": true
    },
    "kernelspec": {
      "name": "python3",
      "display_name": "Python 3"
    },
    "language_info": {
      "name": "python"
    }
  },
  "cells": [
    {
      "cell_type": "markdown",
      "metadata": {
        "id": "view-in-github",
        "colab_type": "text"
      },
      "source": [
        "<a href=\"https://colab.research.google.com/github/hyuna0926/ds-sa-cp2/blob/%EC%A0%84%ED%98%84%EC%95%84/1_23_cp2.ipynb\" target=\"_parent\"><img src=\"https://colab.research.google.com/assets/colab-badge.svg\" alt=\"Open In Colab\"/></a>"
      ]
    },
    {
      "cell_type": "markdown",
      "source": [
        "# Collaborative Filtering - ALS"
      ],
      "metadata": {
        "id": "liTFrAAlX8ej"
      }
    },
    {
      "cell_type": "markdown",
      "source": [
        "## ALS\n",
        "1. 초기 아이템, 사용자 행렬 초기화\n",
        "2. 아이템 행렬 고정 사용자행렬 최적화\n",
        "3. 사용자 행렬 고정 아이템행렬 최적화\n",
        "4. 위 2,3번 반복\n",
        "\n",
        "[ALS](https://eda-ai-lab.tistory.com/529)"
      ],
      "metadata": {
        "id": "kJ0uyXTkYY9I"
      }
    },
    {
      "cell_type": "markdown",
      "source": [
        "- 공식으로 구현해보기"
      ],
      "metadata": {
        "id": "fY1r55KfY04c"
      }
    },
    {
      "cell_type": "code",
      "execution_count": 96,
      "metadata": {
        "id": "Y8s3nfB9X5Yg"
      },
      "outputs": [],
      "source": [
        "import numpy as np\n",
        "import pandas as pd\n",
        "import seaborn as sns\n",
        "import matplotlib.pyplot as plt\n",
        "from sklearn.model_selection import train_test_split\n",
        "from scipy.sparse import csr_matrix"
      ]
    },
    {
      "cell_type": "code",
      "source": [
        "from os import makedirs\n",
        "#클래스 만들기\n",
        "\n",
        "class AlternatingLeastSquares():\n",
        "  def __init__(self, R, k, reg_param, epochs, verbose=False):\n",
        "    \"\"\"\n",
        "    R : rating matrix # 별점 행렬\n",
        "    k : latent parameter #m*k, k*n 차원의 수 데이터가 많으면 보통 20개\n",
        "    reg_param : lambda\n",
        "    epochs : training epochs  #몇 번 반복할 것인지\n",
        "    verbose : print status #학습과정 출력할지 여부\n",
        "    \"\"\"\n",
        "    self.R=R\n",
        "    self.num_users, self.num_items = R.shape\n",
        "    self.k = k\n",
        "    self.reg_param = reg_param\n",
        "    self.epochs = epochs\n",
        "    self.verbose = verbose\n",
        "  \n",
        "\n",
        "  # 사용자\n",
        "  def user_latent(self, i, Ri):\n",
        "    \"\"\"\n",
        "    error : rating - prediction error\n",
        "    i : user index\n",
        "    Ri : Rating of user index i\n",
        "    return : convergence value of user latent of i index\n",
        "\n",
        "    user = np.dot(np.linalg.inv(np.dot(vt,v)+lambda_i),np.dot(vt, Rij))\n",
        "    \"\"\"\n",
        "    Vt = self.items.T\n",
        "    V = np.dot(np.diag(Ri),self.items)\n",
        "    lambda_i = self.reg_param * np.eye(self.k)\n",
        "    Rij= np.dot(np.diag(Ri), self.R[i].T)\n",
        "\n",
        "    # np.linalg.solve은 np.linalg.inv()(역행렬) 만들고 np.dot()한 결과와 동일함 \n",
        "    # du = np.linalg.solve(np.dot(Vt, V)+ lambda_i, np.dot(Vt,Rij)).T\n",
        "\n",
        "    du = np.dot(np.linalg.inv(np.dot(Vt,V)+lambda_i),np.dot(Vt, Rij))\n",
        "    return du\n",
        "\n",
        "\n",
        "  # 아이템\n",
        "  def item_latent(self, j,Rj):\n",
        "    \"\"\"\n",
        "    item = np.dot(np.linalg.inv(np.dot(ut,u)+lambda_i), np.dot(ut, Rij))\n",
        "    \"\"\"\n",
        "    Ut = self.users.T\n",
        "    U = np.dot(np.diag(Rj),self.users)\n",
        "    lambda_i = self.reg_param*np.eye(self.k)\n",
        "    Rij = np.dot(np.diag(Rj), self.R[:,j])\n",
        "\n",
        "    # di = np.linalg.solve(np.dot(Ut,U)+lambda_i, np.dot(Ut,Rij))\n",
        "    di = np.dot(np.linalg.inv(np.dot(Ut,U)+lambda_i), np.dot(Ut,Rij))\n",
        "    return di\n",
        "\n",
        "\n",
        "  #rmse\n",
        "  def cost(self):\n",
        "    '''\n",
        "    pow(x,y) = x의 y제곱\n",
        "    return rmse\n",
        "    '''\n",
        "    xi, yi = self.R.nonzero() #0이 아닌 값들의 index 반환\n",
        "    mse,mae = 0,0\n",
        "    for x,y in zip(xi,yi):\n",
        "      mse += pow(self.R[x,y] - self.get_prediction(x,y),2)\n",
        "      mae += abs(self.R[x,y] - self.get_prediction(x,y))\n",
        "\n",
        "    return np.sqrt(mse/len(xi)), mae/len(xi)\n",
        "  \n",
        "\n",
        "\n",
        "\n",
        "  # 예측값\n",
        "  def get_prediction(self, i,j):\n",
        "    \"\"\"\n",
        "    get predicted rating: user_i, item_j\n",
        "    \"\"\"\n",
        "    return self.users[i,:].dot(self.items[j,:].T)\n",
        "\n",
        "\n",
        "  # 학습\n",
        "  def fit(self):\n",
        "    # 초기(랜덤) 사용자, 아이템 행렬 만들어주기\n",
        "    self.users = np.random.normal(size=(self.num_users, self.k))\n",
        "    self.items = np.random.normal(size=(self.num_items, self.k))\n",
        "\n",
        "    # 반복(epochs)\n",
        "    self.training_process = []\n",
        "    self.user_error =0;\n",
        "    self.item_error =0; \n",
        "    for epoch in range(self.epochs):\n",
        "      #rating이 존재하는 index를 기준으로 training\n",
        "      for i, Ri in enumerate(self.R):\n",
        "        self.users[i]=self.user_latent(i,Ri)\n",
        "        self.user_error = self.cost()\n",
        "      \n",
        "      for j, Rj in enumerate(self.R.T):\n",
        "        self.items[j] = self.item_latent(j,Rj)\n",
        "        self.item_error = self.cost()\n",
        "      \n",
        "      cost = self.cost()\n",
        "      self.training_process.append((epoch,cost))\n",
        "\n",
        "      #print status\n",
        "      if self.verbose == True and ((epoch+1)%10 == 0):\n",
        "        print(f\"Iteration: {epoch+1}; rmse={cost[0]}; mae={cost[1]}\")\n",
        "\n",
        "\n",
        "  # 결과\n",
        "  def get_complete_matrix(self):\n",
        "    return self.users.dot(self.items.T)\n",
        "\n"
      ],
      "metadata": {
        "id": "cp_gvmpYbHNI"
      },
      "execution_count": 41,
      "outputs": []
    },
    {
      "cell_type": "markdown",
      "source": [
        "## CODE 뜯고 맛보기"
      ],
      "metadata": {
        "id": "Gxg5R09yy7dx"
      }
    },
    {
      "cell_type": "code",
      "source": [
        "def sss(a):\n",
        "  c=0\n",
        "  d=0\n",
        "  for i in range(1,a):\n",
        "    c+=i\n",
        "    d-=i\n",
        "  return c,d\n",
        "sss(10)[0]"
      ],
      "metadata": {
        "colab": {
          "base_uri": "https://localhost:8080/"
        },
        "id": "0CYkzpIPCzKE",
        "outputId": "6836e50d-3851-438f-fab4-7883d619c3e5"
      },
      "execution_count": 40,
      "outputs": [
        {
          "output_type": "execute_result",
          "data": {
            "text/plain": [
              "45"
            ]
          },
          "metadata": {},
          "execution_count": 40
        }
      ]
    },
    {
      "cell_type": "code",
      "source": [
        "R = np.array([\n",
        "        [1, 0, 0, 1, 3],\n",
        "        [2, 0, 3, 1, 1],\n",
        "        [1, 2, 0, 5, 0],\n",
        "        [1, 0, 0, 4, 4],\n",
        "        [2, 1, 5, 4, 0],\n",
        "        [5, 1, 5, 4, 0],\n",
        "        [0, 0, 0, 1, 0],\n",
        "    ])"
      ],
      "metadata": {
        "id": "UrGUBbKWlpP0"
      },
      "execution_count": 2,
      "outputs": []
    },
    {
      "cell_type": "code",
      "source": [
        "R.nonzero()"
      ],
      "metadata": {
        "colab": {
          "base_uri": "https://localhost:8080/"
        },
        "id": "dJpxBvmQ0RFa",
        "outputId": "f2a5d6b6-f76d-4f71-9a51-e5b0df5443c1"
      },
      "execution_count": 3,
      "outputs": [
        {
          "output_type": "execute_result",
          "data": {
            "text/plain": [
              "(array([0, 0, 0, 1, 1, 1, 1, 2, 2, 2, 3, 3, 3, 4, 4, 4, 4, 5, 5, 5, 5, 6]),\n",
              " array([0, 3, 4, 0, 2, 3, 4, 0, 1, 3, 0, 3, 4, 0, 1, 2, 3, 0, 1, 2, 3, 3]))"
            ]
          },
          "metadata": {},
          "execution_count": 3
        }
      ]
    },
    {
      "cell_type": "code",
      "source": [
        "for i, Ri in enumerate(R):\n",
        "  print(i,Ri)"
      ],
      "metadata": {
        "colab": {
          "base_uri": "https://localhost:8080/"
        },
        "id": "0nx0rvh3lp08",
        "outputId": "785ae935-d28a-4f5a-fbbd-dceade9dcbe5"
      },
      "execution_count": 4,
      "outputs": [
        {
          "output_type": "stream",
          "name": "stdout",
          "text": [
            "0 [1 0 0 1 3]\n",
            "1 [2 0 3 1 1]\n",
            "2 [1 2 0 5 0]\n",
            "3 [1 0 0 4 4]\n",
            "4 [2 1 5 4 0]\n",
            "5 [5 1 5 4 0]\n",
            "6 [0 0 0 1 0]\n"
          ]
        }
      ]
    },
    {
      "cell_type": "code",
      "source": [
        "R[1,:]"
      ],
      "metadata": {
        "colab": {
          "base_uri": "https://localhost:8080/"
        },
        "id": "Jb0vYP9JlwwF",
        "outputId": "3c17d367-cd77-4a5f-9576-9ca086b08ebc"
      },
      "execution_count": 5,
      "outputs": [
        {
          "output_type": "execute_result",
          "data": {
            "text/plain": [
              "array([2, 0, 3, 1, 1])"
            ]
          },
          "metadata": {},
          "execution_count": 5
        }
      ]
    },
    {
      "cell_type": "code",
      "source": [
        "user, item=R.shape\n",
        "k=2"
      ],
      "metadata": {
        "id": "A31jQRlRvbPN"
      },
      "execution_count": 6,
      "outputs": []
    },
    {
      "cell_type": "code",
      "source": [
        "print(user,item)"
      ],
      "metadata": {
        "colab": {
          "base_uri": "https://localhost:8080/"
        },
        "id": "6Ju-F-7KwNzL",
        "outputId": "f461e64d-6815-4fa7-83cf-a4df60dfafff"
      },
      "execution_count": 7,
      "outputs": [
        {
          "output_type": "stream",
          "name": "stdout",
          "text": [
            "7 5\n"
          ]
        }
      ]
    },
    {
      "cell_type": "markdown",
      "source": [
        "- 랜덤"
      ],
      "metadata": {
        "id": "oFst-4KGzBAB"
      }
    },
    {
      "cell_type": "code",
      "source": [
        "users=np.random.normal(size=(user, k))\n",
        "items=np.random.normal(size=(item, k))"
      ],
      "metadata": {
        "id": "zqHoyxuHwP6S"
      },
      "execution_count": 30,
      "outputs": []
    },
    {
      "cell_type": "code",
      "source": [
        "items"
      ],
      "metadata": {
        "colab": {
          "base_uri": "https://localhost:8080/"
        },
        "id": "BFZ1HF6EAr84",
        "outputId": "1fa3f5e7-d291-44f7-f32a-a860ad87da60"
      },
      "execution_count": 31,
      "outputs": [
        {
          "output_type": "execute_result",
          "data": {
            "text/plain": [
              "array([[-0.74701711, -0.17321202],\n",
              "       [ 0.22829509, -1.09728407],\n",
              "       [ 1.27890807, -0.32934075],\n",
              "       [ 1.76217103, -0.46742663],\n",
              "       [ 0.29966062, -0.19417342]])"
            ]
          },
          "metadata": {},
          "execution_count": 31
        }
      ]
    },
    {
      "cell_type": "code",
      "source": [
        "users"
      ],
      "metadata": {
        "colab": {
          "base_uri": "https://localhost:8080/"
        },
        "id": "_RoT-JM9wQOM",
        "outputId": "e4a6f798-0736-4bf0-aae1-bfe1fa93d27c"
      },
      "execution_count": 9,
      "outputs": [
        {
          "output_type": "execute_result",
          "data": {
            "text/plain": [
              "array([[ 0.07934117,  0.55114124],\n",
              "       [-0.31357278,  0.30594198],\n",
              "       [-1.05635029, -0.74633996],\n",
              "       [-0.18757459,  0.26913108],\n",
              "       [ 0.11136912, -1.18153912],\n",
              "       [-0.4979724 , -0.52980363],\n",
              "       [-0.18822109, -0.78212667]])"
            ]
          },
          "metadata": {},
          "execution_count": 9
        }
      ]
    },
    {
      "cell_type": "markdown",
      "source": [
        "- USER 최적화"
      ],
      "metadata": {
        "id": "9WOlIEgdzDxX"
      }
    },
    {
      "cell_type": "code",
      "source": [
        "reg_param =0.01\n",
        "def user_latent(i, Ri):\n",
        "    \"\"\"\n",
        "    error : rating - prediction error\n",
        "    i : user index\n",
        "    Ri : Rating of user index i\n",
        "    return : convergence value of user latent of i index\n",
        "\n",
        "    user = np.dot(np.linalg.inv(np.dot(vt,v)+lambda_i),np.dot(vt, Rij))\n",
        "    \"\"\"\n",
        "    Vt = items.T\n",
        "    V = np.dot(np.diag(Ri),items)\n",
        "    lambda_i = reg_param * np.eye(k)\n",
        "    Rij= np.dot(np.diag(Ri), R[i].T)\n",
        "    #np.linalg.solve은 np.linalg.inv()(역행렬) 만들고 np.dot()한 결과와 동일함 \n",
        "    du = np.linalg.solve(np.dot(Vt, V)+ lambda_i, np.dot(Vt,Rij)).T\n",
        "    return du"
      ],
      "metadata": {
        "id": "DNf1bvcBxJYV"
      },
      "execution_count": 10,
      "outputs": []
    },
    {
      "cell_type": "code",
      "source": [
        "for i, Ri in enumerate(R):\n",
        "    users[i]=user_latent(i,Ri)\n",
        "users    "
      ],
      "metadata": {
        "colab": {
          "base_uri": "https://localhost:8080/"
        },
        "id": "IQvaesWHwsky",
        "outputId": "cb43972e-161a-4060-df1f-5adab7fb7af0"
      },
      "execution_count": 11,
      "outputs": [
        {
          "output_type": "execute_result",
          "data": {
            "text/plain": [
              "array([[-2.59052301, -1.82118326],\n",
              "       [-0.49688413, -0.0993656 ],\n",
              "       [ 2.22480851, -3.95831303],\n",
              "       [-3.03147213, -7.11849284],\n",
              "       [ 2.71700813, -1.0351145 ],\n",
              "       [-0.60502494, -4.78911648],\n",
              "       [ 0.63177772, -0.55785019]])"
            ]
          },
          "metadata": {},
          "execution_count": 11
        }
      ]
    },
    {
      "cell_type": "code",
      "source": [
        "def user_latent_1(i, Ri):\n",
        "    \"\"\"\n",
        "    error : rating - prediction error\n",
        "    i : user index\n",
        "    Ri : Rating of user index i\n",
        "    return : convergence value of user latent of i index\n",
        "\n",
        "    user = np.dot(np.linalg.inv(np.dot(vt,v)+lambda_i),np.dot(vt, Rij))\n",
        "    \"\"\"\n",
        "    Vt = items.T\n",
        "    V = np.dot(np.diag(Ri),items)\n",
        "    lambda_i = reg_param * np.eye(k)\n",
        "    Rij= np.dot(np.diag(Ri), R[i].T)\n",
        "    #np.linalg.solve은 np.linalg.inv()(역행렬) 만들고 np.dot()한 결과와 동일함 \n",
        "    du = np.dot(np.linalg.inv(np.dot(Vt,V)+lambda_i),np.dot(Vt, Rij))\n",
        "    return du"
      ],
      "metadata": {
        "id": "rFwaCVcj_dTA"
      },
      "execution_count": 17,
      "outputs": []
    },
    {
      "cell_type": "code",
      "source": [
        "for i, Ri in enumerate(R):\n",
        "    users[i]=user_latent_1(i,Ri)\n",
        "users    "
      ],
      "metadata": {
        "colab": {
          "base_uri": "https://localhost:8080/"
        },
        "id": "OycHHqvO_koi",
        "outputId": "80bf54ec-62fe-4481-f007-19a84ce460f4"
      },
      "execution_count": 18,
      "outputs": [
        {
          "output_type": "execute_result",
          "data": {
            "text/plain": [
              "array([[-2.59052301, -1.82118326],\n",
              "       [-0.49688413, -0.0993656 ],\n",
              "       [ 2.22480851, -3.95831303],\n",
              "       [-3.03147213, -7.11849284],\n",
              "       [ 2.71700813, -1.0351145 ],\n",
              "       [-0.60502494, -4.78911648],\n",
              "       [ 0.63177772, -0.55785019]])"
            ]
          },
          "metadata": {},
          "execution_count": 18
        }
      ]
    },
    {
      "cell_type": "markdown",
      "source": [
        "- item 최적화"
      ],
      "metadata": {
        "id": "kZl0NH9xzG1C"
      }
    },
    {
      "cell_type": "code",
      "source": [
        "def item_latent(j,Rj):\n",
        "    \"\"\"\n",
        "    item = np.dot(np.linalg.inv(ut,u)+lambda_i, np.dot(ut, Rij))\n",
        "    \"\"\"\n",
        "    Ut = users.T\n",
        "    U = np.dot(np.diag(Rj),users)\n",
        "    lambda_i = reg_param*np.eye(k)\n",
        "    Rij = np.dot(np.diag(Rj), R[:,j])\n",
        "\n",
        "    di = np.linalg.solve(np.dot(Ut,U)+lambda_i, np.dot(Ut,Rij))\n",
        "    return di"
      ],
      "metadata": {
        "id": "p3zCBrgNxkRw"
      },
      "execution_count": 34,
      "outputs": []
    },
    {
      "cell_type": "code",
      "source": [
        "for j, Rj in enumerate(R.T):\n",
        "   items[j] = item_latent(j, Rj)\n",
        "items"
      ],
      "metadata": {
        "colab": {
          "base_uri": "https://localhost:8080/"
        },
        "id": "36HtNTQTxVwW",
        "outputId": "f5490d29-02d6-46b3-8cc5-ff3b78d8829c"
      },
      "execution_count": 35,
      "outputs": [
        {
          "output_type": "execute_result",
          "data": {
            "text/plain": [
              "array([[ 2.06094569, -1.45060098],\n",
              "       [-0.44603877, -2.83496424],\n",
              "       [-0.05551008, -0.44946957],\n",
              "       [-0.12641285, -3.74322564],\n",
              "       [-6.72849183,  3.51034187]])"
            ]
          },
          "metadata": {},
          "execution_count": 35
        }
      ]
    },
    {
      "cell_type": "code",
      "source": [
        "def item_latent_1(j,Rj):\n",
        "    \"\"\"\n",
        "    item = np.dot(np.linalg.inv(np.dot(Ut,u)+lambda_i), np.dot(Ut, Rij))\n",
        "    \"\"\"\n",
        "    Ut = users.T\n",
        "    U = np.dot(np.diag(Rj),users)\n",
        "    lambda_i = reg_param*np.eye(k)\n",
        "    Rij = np.dot(np.diag(Rj), R[:,j])\n",
        "\n",
        "    di =  np.dot(np.linalg.inv(np.dot(Ut,U)+lambda_i), np.dot(Ut,Rij))\n",
        "    return di"
      ],
      "metadata": {
        "id": "nmu26HokAC8n"
      },
      "execution_count": 36,
      "outputs": []
    },
    {
      "cell_type": "code",
      "source": [
        "for j, Rj in enumerate(R.T):\n",
        "   items[j] = item_latent_1(j, Rj)\n",
        "items"
      ],
      "metadata": {
        "colab": {
          "base_uri": "https://localhost:8080/"
        },
        "id": "xXpdceO1AMNI",
        "outputId": "955ffee2-a717-4b13-f2d1-4100dfad5425"
      },
      "execution_count": 37,
      "outputs": [
        {
          "output_type": "execute_result",
          "data": {
            "text/plain": [
              "array([[ 2.06094569, -1.45060098],\n",
              "       [-0.44603877, -2.83496424],\n",
              "       [-0.05551008, -0.44946957],\n",
              "       [-0.12641285, -3.74322564],\n",
              "       [-6.72849183,  3.51034187]])"
            ]
          },
          "metadata": {},
          "execution_count": 37
        }
      ]
    },
    {
      "cell_type": "code",
      "source": [
        "users.dot(items.T)"
      ],
      "metadata": {
        "colab": {
          "base_uri": "https://localhost:8080/"
        },
        "id": "M88aXveNxnXK",
        "outputId": "82e2530b-38e6-4fa6-85bc-b53eb8137e05"
      },
      "execution_count": null,
      "outputs": [
        {
          "output_type": "execute_result",
          "data": {
            "text/plain": [
              "array([[-0.29984125,  0.71107765, -0.96051395,  0.81720924,  2.61590126],\n",
              "       [ 0.3272503 , -0.16889076,  0.61323903, -0.02690368, -1.02164265],\n",
              "       [ 3.44584415,  1.96589219,  3.77428699,  5.05083658,  0.54808445],\n",
              "       [ 1.47866286,  2.10895272,  0.71291596,  3.9700372 ,  4.05590039],\n",
              "       [ 4.23640621,  0.91296556,  5.7178503 ,  4.06707422, -3.86730051],\n",
              "       [ 3.37741174,  1.17691668,  4.23669326,  3.88216353, -1.72720063],\n",
              "       [ 0.73819437,  0.37786422,  0.83957064,  1.02036505, -0.01327932]])"
            ]
          },
          "metadata": {},
          "execution_count": 35
        }
      ]
    },
    {
      "cell_type": "code",
      "source": [],
      "metadata": {
        "id": "NS0JEcSozVqO"
      },
      "execution_count": null,
      "outputs": []
    },
    {
      "cell_type": "markdown",
      "source": [
        "## 더미데이터로 실행"
      ],
      "metadata": {
        "id": "TftlUqzV5C3Z"
      }
    },
    {
      "cell_type": "code",
      "source": [
        "if __name__ == \"__main__\":\n",
        "    # rating matrix - User X Item : (7 X 5)\n",
        "    R = np.array([\n",
        "        [1, 0, 0, 1, 3],\n",
        "        [2, 0, 3, 1, 1],\n",
        "        [1, 2, 0, 5, 0],\n",
        "        [1, 0, 0, 4, 4],\n",
        "        [2, 1, 5, 4, 0],\n",
        "        [5, 1, 5, 4, 0],\n",
        "        [0, 0, 0, 1, 0],\n",
        "    ])"
      ],
      "metadata": {
        "id": "aLdROmDR5Hhq"
      },
      "execution_count": 42,
      "outputs": []
    },
    {
      "cell_type": "code",
      "source": [
        "als = AlternatingLeastSquares(R = R, reg_param = 0.01, epochs=100, verbose=True, k=3)\n",
        "als.fit()"
      ],
      "metadata": {
        "colab": {
          "base_uri": "https://localhost:8080/"
        },
        "id": "zDw6z9p35Kjg",
        "outputId": "844bd7a6-6651-4847-fe9b-ac0f07e5899a"
      },
      "execution_count": 43,
      "outputs": [
        {
          "output_type": "stream",
          "name": "stdout",
          "text": [
            "Iteration: 10; rmse=0.010575607114263882; mae=0.006549823312835146\n",
            "Iteration: 20; rmse=0.00854460377106766; mae=0.005388997754247893\n",
            "Iteration: 30; rmse=0.007285048492959748; mae=0.0046423788527967195\n",
            "Iteration: 40; rmse=0.006428866404872557; mae=0.004176452036164084\n",
            "Iteration: 50; rmse=0.00581078512884749; mae=0.0038339531724855672\n",
            "Iteration: 60; rmse=0.005345332805738212; mae=0.003564112606165212\n",
            "Iteration: 70; rmse=0.004983008100715914; mae=0.0033442203019312163\n",
            "Iteration: 80; rmse=0.004693003502318026; mae=0.0031603302629142046\n",
            "Iteration: 90; rmse=0.004455220506722262; mae=0.003003390666838034\n",
            "Iteration: 100; rmse=0.004256112552257482; mae=0.0029054737766648\n"
          ]
        }
      ]
    },
    {
      "cell_type": "code",
      "source": [
        "als.get_complete_matrix()"
      ],
      "metadata": {
        "colab": {
          "base_uri": "https://localhost:8080/"
        },
        "id": "26wYArHM5MsF",
        "outputId": "abce9e56-54e2-4bc7-8b72-67a221a72884"
      },
      "execution_count": 44,
      "outputs": [
        {
          "output_type": "execute_result",
          "data": {
            "text/plain": [
              "array([[ 1.01324929,  0.53267807, -1.59309973,  1.00524934,  2.99556046],\n",
              "       [ 2.00108156,  0.07552257,  2.99515009,  0.99289908,  0.99554818],\n",
              "       [ 0.9962799 ,  1.99908018, -1.35349391,  4.99957716,  4.41429551],\n",
              "       [ 1.00042033,  1.62379618, -1.33444292,  3.99861113,  4.00041731],\n",
              "       [ 2.00610086,  0.99958456,  5.00027982,  4.00059116,  0.74626557],\n",
              "       [ 4.99768857,  1.00075309,  5.00077522,  4.00063448,  4.92697459],\n",
              "       [-0.05843708,  0.40542251, -0.34464777,  0.99565272,  0.57538344]])"
            ]
          },
          "metadata": {},
          "execution_count": 44
        }
      ]
    },
    {
      "cell_type": "code",
      "source": [
        "als.cost()"
      ],
      "metadata": {
        "colab": {
          "base_uri": "https://localhost:8080/"
        },
        "id": "dGxkpu6v5ZaV",
        "outputId": "50aa95db-8cea-42ba-df20-19883126c817"
      },
      "execution_count": 45,
      "outputs": [
        {
          "output_type": "execute_result",
          "data": {
            "text/plain": [
              "(0.004256112552257482, 0.0029054737766648)"
            ]
          },
          "metadata": {},
          "execution_count": 45
        }
      ]
    },
    {
      "cell_type": "code",
      "source": [],
      "metadata": {
        "id": "lXuYJB-m6CdJ"
      },
      "execution_count": null,
      "outputs": []
    },
    {
      "cell_type": "markdown",
      "source": [
        "## movielens 데이터 사용"
      ],
      "metadata": {
        "id": "UVrKcar9Dloz"
      }
    },
    {
      "cell_type": "code",
      "source": [
        "df=pd.read_csv('/content/drive/MyDrive/ml-100k/movie_lens.csv', index_col=0)\n",
        "df_c = df.astype(dtype='int32',errors='ignore')\n",
        "df_c.iloc[:,5:7]=df_c.iloc[:,5:7].astype('category')\n",
        "df_c.iloc[:,-1:]=df_c.iloc[:,-1:].astype('category')"
      ],
      "metadata": {
        "id": "UUoRyG8zDp29"
      },
      "execution_count": 48,
      "outputs": []
    },
    {
      "cell_type": "code",
      "source": [
        "df_c.info()"
      ],
      "metadata": {
        "colab": {
          "base_uri": "https://localhost:8080/"
        },
        "id": "INRvhU9tEbxq",
        "outputId": "165afea0-457d-4aa8-9fcb-a44114207245"
      },
      "execution_count": 50,
      "outputs": [
        {
          "output_type": "stream",
          "name": "stdout",
          "text": [
            "<class 'pandas.core.frame.DataFrame'>\n",
            "Int64Index: 100000 entries, 0 to 99999\n",
            "Data columns (total 27 columns):\n",
            " #   Column       Non-Null Count   Dtype   \n",
            "---  ------       --------------   -----   \n",
            " 0   user_id      100000 non-null  int32   \n",
            " 1   movie_id     100000 non-null  int32   \n",
            " 2   rating       100000 non-null  int32   \n",
            " 3   timestamp    100000 non-null  int32   \n",
            " 4   age          100000 non-null  int32   \n",
            " 5   gender       100000 non-null  category\n",
            " 6   occupation   100000 non-null  category\n",
            " 7   unknown      100000 non-null  int32   \n",
            " 8   Action       100000 non-null  int32   \n",
            " 9   Adventure    100000 non-null  int32   \n",
            " 10  Animation    100000 non-null  int32   \n",
            " 11  Children's   100000 non-null  int32   \n",
            " 12  Comedy       100000 non-null  int32   \n",
            " 13  Crime        100000 non-null  int32   \n",
            " 14  Documentary  100000 non-null  int32   \n",
            " 15  Drama        100000 non-null  int32   \n",
            " 16  Fantasy      100000 non-null  int32   \n",
            " 17  Film-Noir    100000 non-null  int32   \n",
            " 18  Horror       100000 non-null  int32   \n",
            " 19  Musical      100000 non-null  int32   \n",
            " 20  Mystery      100000 non-null  int32   \n",
            " 21  Romance      100000 non-null  int32   \n",
            " 22  Sci-Fi       100000 non-null  int32   \n",
            " 23  Thriller     100000 non-null  int32   \n",
            " 24  War          100000 non-null  int32   \n",
            " 25  Western      100000 non-null  int32   \n",
            " 26  movie_title  100000 non-null  category\n",
            "dtypes: category(3), int32(24)\n",
            "memory usage: 10.4 MB\n"
          ]
        }
      ]
    },
    {
      "cell_type": "markdown",
      "source": [
        "- 데이터 분리"
      ],
      "metadata": {
        "id": "jnq3QuLfFW57"
      }
    },
    {
      "cell_type": "code",
      "source": [
        "col_names=['user_id','movie_id','rating','timestamp']\n",
        "train = pd.read_csv('/content/drive/MyDrive/ml-100k/u1.base',sep='\\t',names=col_names)\n",
        "test = pd.read_csv('/content/drive/MyDrive/ml-100k/u1.test',sep='\\t',names=col_names)"
      ],
      "metadata": {
        "id": "3CYJAy3VJD6x"
      },
      "execution_count": 85,
      "outputs": []
    },
    {
      "cell_type": "code",
      "source": [
        "train['user_id'].nunique()"
      ],
      "metadata": {
        "colab": {
          "base_uri": "https://localhost:8080/"
        },
        "id": "NeBv_v2GJyJi",
        "outputId": "61f4cb19-9116-4d2c-ba06-8fed50d0a61c"
      },
      "execution_count": 86,
      "outputs": [
        {
          "output_type": "execute_result",
          "data": {
            "text/plain": [
              "943"
            ]
          },
          "metadata": {},
          "execution_count": 86
        }
      ]
    },
    {
      "cell_type": "code",
      "source": [
        "test['user_id'].nunique()"
      ],
      "metadata": {
        "colab": {
          "base_uri": "https://localhost:8080/"
        },
        "id": "3KOh6l6GJ86w",
        "outputId": "fe0ce659-766d-4569-a8fe-ffa5689bc442"
      },
      "execution_count": 87,
      "outputs": [
        {
          "output_type": "execute_result",
          "data": {
            "text/plain": [
              "459"
            ]
          },
          "metadata": {},
          "execution_count": 87
        }
      ]
    },
    {
      "cell_type": "code",
      "source": [
        "test['movie_id'].nunique()"
      ],
      "metadata": {
        "colab": {
          "base_uri": "https://localhost:8080/"
        },
        "id": "z5Kqp06AKK5d",
        "outputId": "29e49a45-e7e0-49de-e33c-939a6e94ee30"
      },
      "execution_count": 88,
      "outputs": [
        {
          "output_type": "execute_result",
          "data": {
            "text/plain": [
              "1410"
            ]
          },
          "metadata": {},
          "execution_count": 88
        }
      ]
    },
    {
      "cell_type": "code",
      "source": [
        "train['movie_id'].nunique()"
      ],
      "metadata": {
        "colab": {
          "base_uri": "https://localhost:8080/"
        },
        "id": "r0KD-XcVKOAH",
        "outputId": "99da2960-54cd-4000-d3db-e47f7d959c49"
      },
      "execution_count": 89,
      "outputs": [
        {
          "output_type": "execute_result",
          "data": {
            "text/plain": [
              "1650"
            ]
          },
          "metadata": {},
          "execution_count": 89
        }
      ]
    },
    {
      "cell_type": "code",
      "source": [
        "# train, test = train_test_split(df_c[['user_id','movie_id','rating']],test_size=0.2,\n",
        "                              #  shuffle=True, random_state=3)"
      ],
      "metadata": {
        "id": "8u7kG5pSFgUg"
      },
      "execution_count": 82,
      "outputs": []
    },
    {
      "cell_type": "code",
      "source": [
        "# train['user_id'].nunique()\n"
      ],
      "metadata": {
        "colab": {
          "base_uri": "https://localhost:8080/"
        },
        "id": "yUe4ZTAXKEql",
        "outputId": "e4dd2dc7-2b81-44cb-a7b6-2373d4eaab5d"
      },
      "execution_count": 83,
      "outputs": [
        {
          "output_type": "execute_result",
          "data": {
            "text/plain": [
              "943"
            ]
          },
          "metadata": {},
          "execution_count": 83
        }
      ]
    },
    {
      "cell_type": "code",
      "source": [
        "# print(train.shape, test.shape)"
      ],
      "metadata": {
        "colab": {
          "base_uri": "https://localhost:8080/"
        },
        "id": "gcRDQYDkF9Rn",
        "outputId": "3ead5da2-785f-49f5-e701-7d1c83eb5059"
      },
      "execution_count": 59,
      "outputs": [
        {
          "output_type": "stream",
          "name": "stdout",
          "text": [
            "(80000, 3) (20000, 3)\n"
          ]
        }
      ]
    },
    {
      "cell_type": "code",
      "source": [
        "train_matrix = train.pivot_table('rating', index='user_id', columns='movie_id').fillna(0)\n",
        "test_matrix = test.pivot_table('rating', index='user_id', columns='movie_id').fillna(0)\n",
        "train_matrix=csr_matrix(train_matrix.values)\n",
        "test_matrix=csr_matrix(test_matrix.values)\n"
      ],
      "metadata": {
        "id": "Nenn1l78EVS6"
      },
      "execution_count": 97,
      "outputs": []
    },
    {
      "cell_type": "code",
      "source": [
        "train_matrix.shape"
      ],
      "metadata": {
        "colab": {
          "base_uri": "https://localhost:8080/"
        },
        "id": "B5Ypmo0IHF1x",
        "outputId": "12d912b5-1408-4d0a-c35a-181d57eb2bb5"
      },
      "execution_count": 98,
      "outputs": [
        {
          "output_type": "execute_result",
          "data": {
            "text/plain": [
              "(943, 1650)"
            ]
          },
          "metadata": {},
          "execution_count": 98
        }
      ]
    },
    {
      "cell_type": "code",
      "source": [
        "test_matrix.shape"
      ],
      "metadata": {
        "colab": {
          "base_uri": "https://localhost:8080/"
        },
        "id": "AvCseK-rHs6e",
        "outputId": "14937373-9b61-4a4c-98ad-df7354b6a9e8"
      },
      "execution_count": 99,
      "outputs": [
        {
          "output_type": "execute_result",
          "data": {
            "text/plain": [
              "(459, 1410)"
            ]
          },
          "metadata": {},
          "execution_count": 99
        }
      ]
    },
    {
      "cell_type": "code",
      "source": [
        "train_matrix.toarray().shape"
      ],
      "metadata": {
        "colab": {
          "base_uri": "https://localhost:8080/"
        },
        "id": "U9Q6CvsGMXr0",
        "outputId": "7f6020f2-2979-4438-ff59-032793c57d32"
      },
      "execution_count": 107,
      "outputs": [
        {
          "output_type": "execute_result",
          "data": {
            "text/plain": [
              "(943, 1650)"
            ]
          },
          "metadata": {},
          "execution_count": 107
        }
      ]
    },
    {
      "cell_type": "code",
      "source": [
        "als = AlternatingLeastSquares(R=train_matrix.toarray() ,k=20, reg_param=0.01, epochs=50, verbose=True)\n",
        "als.fit()"
      ],
      "metadata": {
        "id": "s7be32DSFSz9"
      },
      "execution_count": null,
      "outputs": []
    },
    {
      "cell_type": "code",
      "source": [],
      "metadata": {
        "id": "wsd9B0ZhGu9c"
      },
      "execution_count": null,
      "outputs": []
    }
  ]
}